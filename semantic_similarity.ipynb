{
 "cells": [
  {
   "cell_type": "code",
   "execution_count": 1,
   "id": "f6882d6e",
   "metadata": {},
   "outputs": [
    {
     "name": "stdout",
     "output_type": "stream",
     "text": [
      "Requirement already satisfied: werpy in c:\\users\\msi-gs66 stealth\\.conda\\envs\\ai_builders\\lib\\site-packages (3.1.0)\n",
      "Requirement already satisfied: numpy>=1.26.0 in c:\\users\\msi-gs66 stealth\\appdata\\roaming\\python\\python310\\site-packages (from werpy) (1.26.4)\n",
      "Requirement already satisfied: pandas>=2.0.0 in c:\\users\\msi-gs66 stealth\\appdata\\roaming\\python\\python310\\site-packages (from werpy) (2.2.1)\n",
      "Requirement already satisfied: python-dateutil>=2.8.2 in c:\\users\\msi-gs66 stealth\\appdata\\roaming\\python\\python310\\site-packages (from pandas>=2.0.0->werpy) (2.9.0.post0)\n",
      "Requirement already satisfied: pytz>=2020.1 in c:\\users\\msi-gs66 stealth\\appdata\\roaming\\python\\python310\\site-packages (from pandas>=2.0.0->werpy) (2024.1)\n",
      "Requirement already satisfied: tzdata>=2022.7 in c:\\users\\msi-gs66 stealth\\appdata\\roaming\\python\\python310\\site-packages (from pandas>=2.0.0->werpy) (2024.1)\n",
      "Requirement already satisfied: six>=1.5 in c:\\users\\msi-gs66 stealth\\appdata\\roaming\\python\\python310\\site-packages (from python-dateutil>=2.8.2->pandas>=2.0.0->werpy) (1.16.0)\n",
      "Note: you may need to restart the kernel to use updated packages.\n"
     ]
    }
   ],
   "source": [
    "pip install werpy"
   ]
  },
  {
   "cell_type": "code",
   "execution_count": 3,
   "id": "09938544",
   "metadata": {},
   "outputs": [],
   "source": [
    "import pandas as pd"
   ]
  },
  {
   "cell_type": "code",
   "execution_count": 5,
   "id": "5aaaa301",
   "metadata": {},
   "outputs": [],
   "source": [
    "import os\n",
    "os.environ[\"TORCH_HOME\"] = \"./model_cache\""
   ]
  },
  {
   "cell_type": "code",
   "execution_count": 7,
   "id": "2cc5b9d0",
   "metadata": {},
   "outputs": [
    {
     "name": "stdout",
     "output_type": "stream",
     "text": [
      "Collecting sentence-transformers\n",
      "  Downloading sentence_transformers-4.1.0-py3-none-any.whl.metadata (13 kB)\n",
      "Collecting transformers<5.0.0,>=4.41.0 (from sentence-transformers)\n",
      "  Downloading transformers-4.52.4-py3-none-any.whl.metadata (38 kB)\n",
      "Requirement already satisfied: tqdm in c:\\users\\msi-gs66 stealth\\appdata\\roaming\\python\\python310\\site-packages (from sentence-transformers) (4.66.2)\n",
      "Requirement already satisfied: torch>=1.11.0 in c:\\users\\msi-gs66 stealth\\appdata\\roaming\\python\\python310\\site-packages (from sentence-transformers) (2.2.1+cu118)\n",
      "Requirement already satisfied: scikit-learn in c:\\users\\msi-gs66 stealth\\appdata\\roaming\\python\\python310\\site-packages (from sentence-transformers) (1.4.1.post1)\n",
      "Requirement already satisfied: scipy in c:\\users\\msi-gs66 stealth\\appdata\\roaming\\python\\python310\\site-packages (from sentence-transformers) (1.12.0)\n",
      "Collecting huggingface-hub>=0.20.0 (from sentence-transformers)\n",
      "  Downloading huggingface_hub-0.32.4-py3-none-any.whl.metadata (14 kB)\n",
      "Requirement already satisfied: Pillow in c:\\users\\msi-gs66 stealth\\appdata\\roaming\\python\\python310\\site-packages (from sentence-transformers) (10.2.0)\n",
      "Requirement already satisfied: typing_extensions>=4.5.0 in c:\\users\\msi-gs66 stealth\\.conda\\envs\\ai_builders\\lib\\site-packages (from sentence-transformers) (4.13.2)\n",
      "Requirement already satisfied: filelock in c:\\users\\msi-gs66 stealth\\appdata\\roaming\\python\\python310\\site-packages (from huggingface-hub>=0.20.0->sentence-transformers) (3.13.1)\n",
      "Requirement already satisfied: fsspec>=2023.5.0 in c:\\users\\msi-gs66 stealth\\appdata\\roaming\\python\\python310\\site-packages (from huggingface-hub>=0.20.0->sentence-transformers) (2024.2.0)\n",
      "Requirement already satisfied: packaging>=20.9 in c:\\users\\msi-gs66 stealth\\appdata\\roaming\\python\\python310\\site-packages (from huggingface-hub>=0.20.0->sentence-transformers) (24.0)\n",
      "Requirement already satisfied: pyyaml>=5.1 in c:\\users\\msi-gs66 stealth\\appdata\\roaming\\python\\python310\\site-packages (from huggingface-hub>=0.20.0->sentence-transformers) (6.0.1)\n",
      "Requirement already satisfied: requests in c:\\users\\msi-gs66 stealth\\appdata\\roaming\\python\\python310\\site-packages (from huggingface-hub>=0.20.0->sentence-transformers) (2.31.0)\n",
      "Requirement already satisfied: sympy in c:\\users\\msi-gs66 stealth\\appdata\\roaming\\python\\python310\\site-packages (from torch>=1.11.0->sentence-transformers) (1.12)\n",
      "Requirement already satisfied: networkx in c:\\users\\msi-gs66 stealth\\appdata\\roaming\\python\\python310\\site-packages (from torch>=1.11.0->sentence-transformers) (3.2.1)\n",
      "Requirement already satisfied: jinja2 in c:\\users\\msi-gs66 stealth\\appdata\\roaming\\python\\python310\\site-packages (from torch>=1.11.0->sentence-transformers) (3.1.3)\n",
      "Requirement already satisfied: colorama in c:\\users\\msi-gs66 stealth\\appdata\\roaming\\python\\python310\\site-packages (from tqdm->sentence-transformers) (0.4.6)\n",
      "Requirement already satisfied: numpy>=1.17 in c:\\users\\msi-gs66 stealth\\appdata\\roaming\\python\\python310\\site-packages (from transformers<5.0.0,>=4.41.0->sentence-transformers) (1.26.4)\n",
      "Requirement already satisfied: regex!=2019.12.17 in c:\\users\\msi-gs66 stealth\\.conda\\envs\\ai_builders\\lib\\site-packages (from transformers<5.0.0,>=4.41.0->sentence-transformers) (2024.11.6)\n",
      "Collecting tokenizers<0.22,>=0.21 (from transformers<5.0.0,>=4.41.0->sentence-transformers)\n",
      "  Downloading tokenizers-0.21.1-cp39-abi3-win_amd64.whl.metadata (6.9 kB)\n",
      "Collecting safetensors>=0.4.3 (from transformers<5.0.0,>=4.41.0->sentence-transformers)\n",
      "  Downloading safetensors-0.5.3-cp38-abi3-win_amd64.whl.metadata (3.9 kB)\n",
      "Requirement already satisfied: joblib>=1.2.0 in c:\\users\\msi-gs66 stealth\\appdata\\roaming\\python\\python310\\site-packages (from scikit-learn->sentence-transformers) (1.3.2)\n",
      "Requirement already satisfied: threadpoolctl>=2.0.0 in c:\\users\\msi-gs66 stealth\\appdata\\roaming\\python\\python310\\site-packages (from scikit-learn->sentence-transformers) (3.4.0)\n",
      "Requirement already satisfied: MarkupSafe>=2.0 in c:\\users\\msi-gs66 stealth\\appdata\\roaming\\python\\python310\\site-packages (from jinja2->torch>=1.11.0->sentence-transformers) (2.1.5)\n",
      "Requirement already satisfied: charset-normalizer<4,>=2 in c:\\users\\msi-gs66 stealth\\appdata\\roaming\\python\\python310\\site-packages (from requests->huggingface-hub>=0.20.0->sentence-transformers) (3.3.2)\n",
      "Requirement already satisfied: idna<4,>=2.5 in c:\\users\\msi-gs66 stealth\\appdata\\roaming\\python\\python310\\site-packages (from requests->huggingface-hub>=0.20.0->sentence-transformers) (2.10)\n",
      "Requirement already satisfied: urllib3<3,>=1.21.1 in c:\\users\\msi-gs66 stealth\\appdata\\roaming\\python\\python310\\site-packages (from requests->huggingface-hub>=0.20.0->sentence-transformers) (2.2.1)\n",
      "Requirement already satisfied: certifi>=2017.4.17 in c:\\users\\msi-gs66 stealth\\appdata\\roaming\\python\\python310\\site-packages (from requests->huggingface-hub>=0.20.0->sentence-transformers) (2023.7.22)\n",
      "Requirement already satisfied: mpmath>=0.19 in c:\\users\\msi-gs66 stealth\\appdata\\roaming\\python\\python310\\site-packages (from sympy->torch>=1.11.0->sentence-transformers) (1.3.0)\n",
      "Downloading sentence_transformers-4.1.0-py3-none-any.whl (345 kB)\n",
      "Downloading huggingface_hub-0.32.4-py3-none-any.whl (512 kB)\n",
      "Downloading transformers-4.52.4-py3-none-any.whl (10.5 MB)\n",
      "   ---------------------------------------- 0.0/10.5 MB ? eta -:--:--\n",
      "   --- ------------------------------------ 0.8/10.5 MB 3.7 MB/s eta 0:00:03\n",
      "   ----- ---------------------------------- 1.3/10.5 MB 3.5 MB/s eta 0:00:03\n",
      "   ------- -------------------------------- 1.8/10.5 MB 2.7 MB/s eta 0:00:04\n",
      "   --------- ------------------------------ 2.4/10.5 MB 2.7 MB/s eta 0:00:03\n",
      "   ------------ --------------------------- 3.1/10.5 MB 2.9 MB/s eta 0:00:03\n",
      "   --------------- ------------------------ 3.9/10.5 MB 3.1 MB/s eta 0:00:03\n",
      "   ------------------ --------------------- 4.7/10.5 MB 3.1 MB/s eta 0:00:02\n",
      "   -------------------- ------------------- 5.2/10.5 MB 3.1 MB/s eta 0:00:02\n",
      "   ----------------------- ---------------- 6.0/10.5 MB 3.2 MB/s eta 0:00:02\n",
      "   -------------------------- ------------- 6.8/10.5 MB 3.1 MB/s eta 0:00:02\n",
      "   ---------------------------- ----------- 7.3/10.5 MB 3.2 MB/s eta 0:00:01\n",
      "   ------------------------------- -------- 8.1/10.5 MB 3.2 MB/s eta 0:00:01\n",
      "   --------------------------------- ------ 8.7/10.5 MB 3.2 MB/s eta 0:00:01\n",
      "   ------------------------------------- -- 9.7/10.5 MB 3.3 MB/s eta 0:00:01\n",
      "   ---------------------------------------  10.2/10.5 MB 3.3 MB/s eta 0:00:01\n",
      "   ---------------------------------------- 10.5/10.5 MB 3.3 MB/s eta 0:00:00\n",
      "Downloading safetensors-0.5.3-cp38-abi3-win_amd64.whl (308 kB)\n",
      "Downloading tokenizers-0.21.1-cp39-abi3-win_amd64.whl (2.4 MB)\n",
      "   ---------------------------------------- 0.0/2.4 MB ? eta -:--:--\n",
      "   -------- ------------------------------- 0.5/2.4 MB 5.6 MB/s eta 0:00:01\n",
      "   --------------------- ------------------ 1.3/2.4 MB 3.7 MB/s eta 0:00:01\n",
      "   ---------------------------------- ----- 2.1/2.4 MB 3.9 MB/s eta 0:00:01\n",
      "   ---------------------------------------- 2.4/2.4 MB 4.0 MB/s eta 0:00:00\n",
      "Installing collected packages: safetensors, huggingface-hub, tokenizers, transformers, sentence-transformers\n",
      "Successfully installed huggingface-hub-0.32.4 safetensors-0.5.3 sentence-transformers-4.1.0 tokenizers-0.21.1 transformers-4.52.4\n",
      "Note: you may need to restart the kernel to use updated packages.\n"
     ]
    }
   ],
   "source": [
    "pip install sentence-transformers"
   ]
  },
  {
   "cell_type": "code",
   "execution_count": 9,
   "id": "8d9d1344",
   "metadata": {},
   "outputs": [
    {
     "name": "stdout",
     "output_type": "stream",
     "text": [
      "Collecting protobuf==3.20.3\n",
      "  Downloading protobuf-3.20.3-cp310-cp310-win_amd64.whl.metadata (698 bytes)\n",
      "Downloading protobuf-3.20.3-cp310-cp310-win_amd64.whl (904 kB)\n",
      "   ---------------------------------------- 0.0/904.0 kB ? eta -:--:--\n",
      "   ----------------------- ---------------- 524.3/904.0 kB 3.4 MB/s eta 0:00:01\n",
      "   ---------------------------------------- 904.0/904.0 kB 2.9 MB/s eta 0:00:00\n",
      "Installing collected packages: protobuf\n",
      "  Attempting uninstall: protobuf\n",
      "    Found existing installation: protobuf 5.29.4\n",
      "    Uninstalling protobuf-5.29.4:\n",
      "      Successfully uninstalled protobuf-5.29.4\n",
      "Successfully installed protobuf-3.20.3\n",
      "Note: you may need to restart the kernel to use updated packages.\n"
     ]
    },
    {
     "name": "stderr",
     "output_type": "stream",
     "text": [
      "  WARNING: Failed to remove contents in a temporary directory 'C:\\Users\\MSI-GS66 STEALTH\\.conda\\envs\\ai_builders\\Lib\\site-packages\\google\\~upb'.\n",
      "  You can safely remove it manually.\n",
      "ERROR: pip's dependency resolver does not currently take into account all the packages that are installed. This behaviour is the source of the following dependency conflicts.\n",
      "mediapipe 0.10.11 requires flatbuffers>=2.0, but you have flatbuffers 1.12 which is incompatible.\n",
      "tensorboard 2.9.1 requires protobuf<3.20,>=3.9.2, but you have protobuf 3.20.3 which is incompatible.\n",
      "grpcio-status 1.71.0 requires protobuf<6.0dev,>=5.26.1, but you have protobuf 3.20.3 which is incompatible.\n"
     ]
    }
   ],
   "source": [
    "pip install protobuf==3.20.3"
   ]
  },
  {
   "cell_type": "code",
   "execution_count": 1,
   "id": "ce8a52e5",
   "metadata": {},
   "outputs": [
    {
     "name": "stderr",
     "output_type": "stream",
     "text": [
      "C:\\Users\\MSI-GS66 STEALTH\\AppData\\Roaming\\Python\\Python310\\site-packages\\tqdm\\auto.py:21: TqdmWarning: IProgress not found. Please update jupyter and ipywidgets. See https://ipywidgets.readthedocs.io/en/stable/user_install.html\n",
      "  from .autonotebook import tqdm as notebook_tqdm\n",
      "Xet Storage is enabled for this repo, but the 'hf_xet' package is not installed. Falling back to regular HTTP download. For better performance, install the package with: `pip install huggingface_hub[hf_xet]` or `pip install hf_xet`\n",
      "c:\\Users\\MSI-GS66 STEALTH\\.conda\\envs\\ai_builders\\lib\\site-packages\\transformers\\models\\bert\\modeling_bert.py:407: UserWarning: 1Torch was not compiled with flash attention. (Triggered internally at ..\\aten\\src\\ATen\\native\\transformers\\cuda\\sdp_utils.cpp:263.)\n",
      "  attn_output = torch.nn.functional.scaled_dot_product_attention(\n"
     ]
    }
   ],
   "source": [
    "from sentence_transformers import SentenceTransformer, util\n",
    "import pandas as pd\n",
    "\n",
    "# Load dataset\n",
    "df = pd.read_csv(\"eval_manual_check_dataset.csv\")\n",
    "\n",
    "# Load pretrained model\n",
    "model = SentenceTransformer('all-MiniLM-L6-v2')\n",
    "\n",
    "# Compute similarity\n",
    "semantic_scores = []\n",
    "for _, row in df.iterrows():\n",
    "    ideal = str(row[\"Ideal Answer\"])\n",
    "    model_ans = str(row[\"Model Answer\"])\n",
    "    emb1 = model.encode(ideal, convert_to_tensor=True)\n",
    "    emb2 = model.encode(model_ans, convert_to_tensor=True)\n",
    "    score = util.cos_sim(emb1, emb2).item()\n",
    "    semantic_scores.append(score)\n",
    "\n",
    "# Add and save\n",
    "df[\"Semantic_Similarity\"] = semantic_scores\n",
    "df.to_csv(\"eval_with_semantic.csv\", index=False)\n"
   ]
  }
 ],
 "metadata": {
  "kernelspec": {
   "display_name": "ai_builders",
   "language": "python",
   "name": "python3"
  },
  "language_info": {
   "codemirror_mode": {
    "name": "ipython",
    "version": 3
   },
   "file_extension": ".py",
   "mimetype": "text/x-python",
   "name": "python",
   "nbconvert_exporter": "python",
   "pygments_lexer": "ipython3",
   "version": "3.10.16"
  }
 },
 "nbformat": 4,
 "nbformat_minor": 5
}
